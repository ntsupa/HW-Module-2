{
 "cells": [
  {
   "cell_type": "markdown",
   "id": "c209b646",
   "metadata": {},
   "source": [
    "### Homework #2"
   ]
  },
  {
   "cell_type": "markdown",
   "id": "869ebfd6",
   "metadata": {},
   "source": [
    "1. Round 4.5667 to the nearest hundreth (2 decimals) using a build-in function, round()."
   ]
  },
  {
   "cell_type": "code",
   "execution_count": 1,
   "id": "123658aa",
   "metadata": {},
   "outputs": [
    {
     "data": {
      "text/plain": [
       "4.57"
      ]
     },
     "execution_count": 1,
     "metadata": {},
     "output_type": "execute_result"
    }
   ],
   "source": [
    "round(4.5667, 2)"
   ]
  },
  {
   "cell_type": "raw",
   "id": "5bf32374",
   "metadata": {},
   "source": [
    "2. Convert \"657\" to an integer data type"
   ]
  },
  {
   "cell_type": "code",
   "execution_count": 2,
   "id": "d5a67683",
   "metadata": {},
   "outputs": [
    {
     "data": {
      "text/plain": [
       "657"
      ]
     },
     "execution_count": 2,
     "metadata": {},
     "output_type": "execute_result"
    }
   ],
   "source": [
    "int(\"657\")"
   ]
  },
  {
   "cell_type": "markdown",
   "id": "a36f06d4",
   "metadata": {},
   "source": [
    "3. Write a program to get two numbers from a user. Then, create a 6-digit code that is a series of randomly generated numbers between the two numbers given by the user. Print the 6-digit code so all digits are separated by a dash. "
   ]
  },
  {
   "cell_type": "code",
   "execution_count": 3,
   "id": "021c92d4",
   "metadata": {},
   "outputs": [
    {
     "name": "stdout",
     "output_type": "stream",
     "text": [
      "Enter a number: 5\n",
      "Enter another number: 100\n",
      "The secret code is: 62-96-27-49-49-19\n"
     ]
    }
   ],
   "source": [
    "import random as rand\n",
    "\n",
    "n1 = int(input(\"Enter a number: \"))\n",
    "n2 = int(input(\"Enter another number: \"))\n",
    "\n",
    "d1 = rand.randint(n1, n2)\n",
    "d2 = rand.randint(n1, n2)\n",
    "d3 = rand.randint(n1, n2)\n",
    "d4 = rand.randint(n1, n2)\n",
    "d5 = rand.randint(n1, n2)\n",
    "d6 = rand.randint(n1, n2)\n",
    "\n",
    "print(f\"The secret code is: {d1}-{d2}-{d3}-{d4}-{d5}-{d6}\")"
   ]
  },
  {
   "cell_type": "markdown",
   "id": "ee1441a1",
   "metadata": {},
   "source": [
    " ##Write a program to remove ALL the white spaces from the following text:\n",
    "\n",
    "        Hickory, dickory, dock,     \n",
    "        The mouse ran up the clock.   \n",
    "        The clock struck one,   \n",
    "        The mouse ran down,                      \n",
    "        Hickory, dickory, dock                  "
   ]
  },
  {
   "cell_type": "code",
   "execution_count": 4,
   "id": "8bf680f1",
   "metadata": {},
   "outputs": [],
   "source": [
    "line1 = \"          Hickory,  dickory, dock,     \"\n",
    "line2 = \"The  mouse ran       up the  clock.\"\n",
    "line3 = \"The        clock  struck one,  \"\n",
    "line4 = \"    The  mouse  ran    down,\"\n",
    "line5 = \" Hickory, dickory,         dock    \""
   ]
  },
  {
   "cell_type": "code",
   "execution_count": 5,
   "id": "1510adc9",
   "metadata": {},
   "outputs": [],
   "source": [
    "\n",
    "line1 = line1.replace(\" \", \"\")\n",
    "line2 = line2.replace(\" \", \"\")\n",
    "line3 = line3.replace(\" \", \"\")\n",
    "line4 = line4.replace(\" \", \"\")\n",
    "line5 = line5.replace(\" \", \"\")\n",
    "\n"
   ]
  },
  {
   "cell_type": "code",
   "execution_count": 6,
   "id": "8ba01d5c",
   "metadata": {},
   "outputs": [
    {
     "name": "stdout",
     "output_type": "stream",
     "text": [
      "Hickory,dickory,dock,\n",
      "Themouseranuptheclock.\n",
      "Theclockstruckone,\n",
      "Themouserandown,\n",
      "Hickory,dickory,dock\n"
     ]
    }
   ],
   "source": [
    "line1 = line1.strip()\n",
    "line2 = line2.strip()\n",
    "line3 = line3.strip()\n",
    "line4 = line4.strip()\n",
    "line5 = line5.strip()\n",
    "\n",
    "print(line1)\n",
    "print(line2)\n",
    "print(line3)\n",
    "print(line4)\n",
    "print(line5)"
   ]
  },
  {
   "cell_type": "markdown",
   "id": "72d87b5b",
   "metadata": {},
   "source": [
    "5. Write a function to calculate the miles per gallon. Get a miles driven and gallons used from a user and call your function to calculate the miles per gallon."
   ]
  },
  {
   "cell_type": "code",
   "execution_count": 7,
   "id": "27be7372",
   "metadata": {},
   "outputs": [
    {
     "name": "stdout",
     "output_type": "stream",
     "text": [
      "Please enter the number of miles driven:\t270\n",
      "Please enter the number of gallons used:\t15\n",
      "\n",
      "Miles Driven per Gallon\n",
      "\n",
      "270.0 miles / 15.0 gallons = 18.00 miles per gallon\n"
     ]
    }
   ],
   "source": [
    "def mpg():\n",
    "    miles = float(input(\"Please enter the number of miles driven:\\t\"))\n",
    "    gal = float(input(\"Please enter the number of gallons used:\\t\"))\n",
    "    mpg = miles/gal\n",
    "    print(\"\\nMiles Driven per Gallon\\n\")\n",
    "    print(f\"{miles} miles / {gal} gallons = {mpg:.2f} miles per gallon\")\n",
    "    \n",
    "## call the mpg() function \n",
    "\n",
    "mpg()"
   ]
  },
  {
   "cell_type": "markdown",
   "id": "1f3942b8",
   "metadata": {},
   "source": [
    "6. Enhance the <b>compute()</b> function created during Module 2. Enhance the function to compute a circle's area and circumference where:\n",
    "\n",
    " - circle's area = 3.14 X (radius X radius)   \n",
    " - circle's circumference = 3.14 X diameter"
   ]
  },
  {
   "cell_type": "code",
   "execution_count": 20,
   "id": "df43daca",
   "metadata": {},
   "outputs": [],
   "source": [
    "def compute():\n",
    "    r=float(input(\"Please enter radius:\"))\n",
    "    d=r*2\n",
    "    A=3.14*(r*r)\n",
    "    C=3.14*d\n",
    "    A=print(f\"Circle's area is{A:.3f}\")\n",
    "    C=print(f\"Circle's circumference is {C:.3f}\")\n",
    "    "
   ]
  },
  {
   "cell_type": "code",
   "execution_count": 21,
   "id": "fa8de89a",
   "metadata": {},
   "outputs": [
    {
     "name": "stdout",
     "output_type": "stream",
     "text": [
      "Please enter radius:7.14\n",
      "Circle's area is160.076\n",
      "Circle's circumference is 44.839\n"
     ]
    }
   ],
   "source": [
    "compute()"
   ]
  },
  {
   "cell_type": "code",
   "execution_count": 2,
   "id": "458bd1ec",
   "metadata": {},
   "outputs": [
    {
     "name": "stdout",
     "output_type": "stream",
     "text": [
      "Area is 153.86:\n",
      "Circumference is 43.96:\n"
     ]
    }
   ],
   "source": [
    "## getting info eternally\n",
    "\n",
    "def compute1(r,d):\n",
    "    A=3.14*(r*r)\n",
    "    C=3.14*d\n",
    "    print(f\"Area is {A}:\")\n",
    "    print(f\"Circumference is {C}:\")\n",
    "    \n",
    "compute1(7,14)\n",
    "   "
   ]
  },
  {
   "cell_type": "markdown",
   "id": "4c5d83bb",
   "metadata": {},
   "source": [
    "7. Write a function called multiply_two() that accepts two parameters. The function should print a message like '15 * 2 = 30'.  Randomly generate two numbers between 1 and 100, then call the function with the two random numbers."
   ]
  },
  {
   "cell_type": "code",
   "execution_count": 6,
   "id": "fe5ca2dc",
   "metadata": {},
   "outputs": [],
   "source": [
    "import random as rand\n",
    "\n",
    "\n",
    "def multiply_two(d1, d2):\n",
    "\n",
    "    print(f\"{d1} * {d2} = {d1*d2}\")\n",
    "   \n"
   ]
  },
  {
   "cell_type": "code",
   "execution_count": 8,
   "id": "89e58c16",
   "metadata": {},
   "outputs": [
    {
     "name": "stdout",
     "output_type": "stream",
     "text": [
      "60\n",
      "36\n",
      "60 * 36 = 2160\n"
     ]
    }
   ],
   "source": [
    "    d1 = rand.randint(1, 100)\n",
    "    print(d1)\n",
    "    d2 = rand.randint(1, 100)\n",
    "    print(d2)\n",
    "    \n",
    "    multiply_two(d1,d2)"
   ]
  },
  {
   "cell_type": "code",
   "execution_count": null,
   "id": "9f83774c",
   "metadata": {},
   "outputs": [],
   "source": []
  },
  {
   "cell_type": "markdown",
   "id": "36865477",
   "metadata": {},
   "source": [
    "8. Create a function for a multiplication table.  Get a number from a user and then call you function which produces a multiplication table for that number.\n",
    "The output should look something like this:\n",
    "\n",
    "        Enter a number: 3\n",
    "        3 X 1 = 3\n",
    "        3 X 2 = 6\n",
    "        3 X 3 = 9\n",
    "        3 X 4 = 12\n",
    "        3 X 5 = 15\n",
    "        3 X 6 = 18\n",
    "        3 X 7 = 21\n",
    "        3 X 8 = 24\n",
    "        3 X 9 = 27"
   ]
  },
  {
   "cell_type": "code",
   "execution_count": 12,
   "id": "b023e863",
   "metadata": {},
   "outputs": [
    {
     "name": "stdout",
     "output_type": "stream",
     "text": [
      "Please enter a number:4\n",
      "4 x 1 = 4\n",
      "4 x 2 = 8\n",
      "4 x 3 = 12\n",
      "4 x 4 = 16\n",
      "4 x 5 = 20\n",
      "4 x 6 = 24\n",
      "4 x 7 = 28\n",
      "4 x 8 = 32\n",
      "4 x 9 = 36\n"
     ]
    }
   ],
   "source": [
    "def multi_num():\n",
    "    num = int(input(\"Please enter a number:\"))\n",
    "    n1 = print(f\"{num} x 1 = {num*1}\")\n",
    "    n2 = print(f\"{num} x 2 = {num*2}\")\n",
    "    n3 = print(f\"{num} x 3 = {num*3}\")\n",
    "    n4 = print(f\"{num} x 4 = {num*4}\")\n",
    "    n5 = print(f\"{num} x 5 = {num*5}\")\n",
    "    n6 = print(f\"{num} x 6 = {num*6}\")\n",
    "    n7 = print(f\"{num} x 7 = {num*7}\")\n",
    "    n8 = print(f\"{num} x 8 = {num*8}\")\n",
    "    n9 = print(f\"{num} x 9 = {num*9}\")\n",
    "    \n",
    "multi_num()"
   ]
  },
  {
   "cell_type": "code",
   "execution_count": null,
   "id": "9e9cf56c",
   "metadata": {},
   "outputs": [],
   "source": []
  },
  {
   "cell_type": "code",
   "execution_count": null,
   "id": "563c8445",
   "metadata": {},
   "outputs": [],
   "source": []
  }
 ],
 "metadata": {
  "kernelspec": {
   "display_name": "Python 3",
   "language": "python",
   "name": "python3"
  },
  "language_info": {
   "codemirror_mode": {
    "name": "ipython",
    "version": 3
   },
   "file_extension": ".py",
   "mimetype": "text/x-python",
   "name": "python",
   "nbconvert_exporter": "python",
   "pygments_lexer": "ipython3",
   "version": "3.8.8"
  }
 },
 "nbformat": 4,
 "nbformat_minor": 5
}
